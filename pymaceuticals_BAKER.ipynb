{
 "cells": [
  {
   "cell_type": "markdown",
   "metadata": {},
   "source": [
    "## Observations and Insights "
   ]
  },
  {
   "cell_type": "markdown",
   "metadata": {},
   "source": []
  },
  {
   "cell_type": "code",
   "execution_count": 462,
   "metadata": {},
   "outputs": [],
   "source": [
    "%matplotlib inline\n",
    "#%matplotlib notebook"
   ]
  },
  {
   "cell_type": "code",
   "execution_count": 463,
   "metadata": {},
   "outputs": [],
   "source": [
    "# Julie Baker\n",
    "# Pymaceuticals\n",
    "# June 2021"
   ]
  },
  {
   "cell_type": "code",
   "execution_count": 464,
   "metadata": {},
   "outputs": [
    {
     "output_type": "execute_result",
     "data": {
      "text/plain": [
       "     Mouse ID Drug Regimen   Sex  Age_months  Weight (g)  Timepoint  \\\n",
       "0        k403     Ramicane  Male          21          16          0   \n",
       "1        k403     Ramicane  Male          21          16          5   \n",
       "2        k403     Ramicane  Male          21          16         10   \n",
       "3        k403     Ramicane  Male          21          16         15   \n",
       "4        k403     Ramicane  Male          21          16         20   \n",
       "...       ...          ...   ...         ...         ...        ...   \n",
       "1888     z969     Naftisol  Male           9          30         25   \n",
       "1889     z969     Naftisol  Male           9          30         30   \n",
       "1890     z969     Naftisol  Male           9          30         35   \n",
       "1891     z969     Naftisol  Male           9          30         40   \n",
       "1892     z969     Naftisol  Male           9          30         45   \n",
       "\n",
       "      Tumor Volume (mm3)  Metastatic Sites  \n",
       "0              45.000000                 0  \n",
       "1              38.825898                 0  \n",
       "2              35.014271                 1  \n",
       "3              34.223992                 1  \n",
       "4              32.997729                 1  \n",
       "...                  ...               ...  \n",
       "1888           63.145652                 2  \n",
       "1889           65.841013                 3  \n",
       "1890           69.176246                 4  \n",
       "1891           70.314904                 4  \n",
       "1892           73.867845                 4  \n",
       "\n",
       "[1893 rows x 8 columns]"
      ],
      "text/html": "<div>\n<style scoped>\n    .dataframe tbody tr th:only-of-type {\n        vertical-align: middle;\n    }\n\n    .dataframe tbody tr th {\n        vertical-align: top;\n    }\n\n    .dataframe thead th {\n        text-align: right;\n    }\n</style>\n<table border=\"1\" class=\"dataframe\">\n  <thead>\n    <tr style=\"text-align: right;\">\n      <th></th>\n      <th>Mouse ID</th>\n      <th>Drug Regimen</th>\n      <th>Sex</th>\n      <th>Age_months</th>\n      <th>Weight (g)</th>\n      <th>Timepoint</th>\n      <th>Tumor Volume (mm3)</th>\n      <th>Metastatic Sites</th>\n    </tr>\n  </thead>\n  <tbody>\n    <tr>\n      <th>0</th>\n      <td>k403</td>\n      <td>Ramicane</td>\n      <td>Male</td>\n      <td>21</td>\n      <td>16</td>\n      <td>0</td>\n      <td>45.000000</td>\n      <td>0</td>\n    </tr>\n    <tr>\n      <th>1</th>\n      <td>k403</td>\n      <td>Ramicane</td>\n      <td>Male</td>\n      <td>21</td>\n      <td>16</td>\n      <td>5</td>\n      <td>38.825898</td>\n      <td>0</td>\n    </tr>\n    <tr>\n      <th>2</th>\n      <td>k403</td>\n      <td>Ramicane</td>\n      <td>Male</td>\n      <td>21</td>\n      <td>16</td>\n      <td>10</td>\n      <td>35.014271</td>\n      <td>1</td>\n    </tr>\n    <tr>\n      <th>3</th>\n      <td>k403</td>\n      <td>Ramicane</td>\n      <td>Male</td>\n      <td>21</td>\n      <td>16</td>\n      <td>15</td>\n      <td>34.223992</td>\n      <td>1</td>\n    </tr>\n    <tr>\n      <th>4</th>\n      <td>k403</td>\n      <td>Ramicane</td>\n      <td>Male</td>\n      <td>21</td>\n      <td>16</td>\n      <td>20</td>\n      <td>32.997729</td>\n      <td>1</td>\n    </tr>\n    <tr>\n      <th>...</th>\n      <td>...</td>\n      <td>...</td>\n      <td>...</td>\n      <td>...</td>\n      <td>...</td>\n      <td>...</td>\n      <td>...</td>\n      <td>...</td>\n    </tr>\n    <tr>\n      <th>1888</th>\n      <td>z969</td>\n      <td>Naftisol</td>\n      <td>Male</td>\n      <td>9</td>\n      <td>30</td>\n      <td>25</td>\n      <td>63.145652</td>\n      <td>2</td>\n    </tr>\n    <tr>\n      <th>1889</th>\n      <td>z969</td>\n      <td>Naftisol</td>\n      <td>Male</td>\n      <td>9</td>\n      <td>30</td>\n      <td>30</td>\n      <td>65.841013</td>\n      <td>3</td>\n    </tr>\n    <tr>\n      <th>1890</th>\n      <td>z969</td>\n      <td>Naftisol</td>\n      <td>Male</td>\n      <td>9</td>\n      <td>30</td>\n      <td>35</td>\n      <td>69.176246</td>\n      <td>4</td>\n    </tr>\n    <tr>\n      <th>1891</th>\n      <td>z969</td>\n      <td>Naftisol</td>\n      <td>Male</td>\n      <td>9</td>\n      <td>30</td>\n      <td>40</td>\n      <td>70.314904</td>\n      <td>4</td>\n    </tr>\n    <tr>\n      <th>1892</th>\n      <td>z969</td>\n      <td>Naftisol</td>\n      <td>Male</td>\n      <td>9</td>\n      <td>30</td>\n      <td>45</td>\n      <td>73.867845</td>\n      <td>4</td>\n    </tr>\n  </tbody>\n</table>\n<p>1893 rows × 8 columns</p>\n</div>"
     },
     "metadata": {},
     "execution_count": 464
    }
   ],
   "source": [
    "# Dependencies and Setup\n",
    "import matplotlib.pyplot as plt\n",
    "import pandas as pd\n",
    "import scipy.stats as st\n",
    "import os\n",
    "import numpy as np \n",
    "\n",
    "# Study data files\n",
    "mouse_metadata_path = os.path.join(os.getcwd(), \"data\", \"Mouse_metadata.csv\")\n",
    "study_results_path = os.path.join(os.getcwd(), \"data\", \"Study_results.csv\")\n",
    "# Read the mouse data and the study results\n",
    "mouse_metadata_df = pd.read_csv(mouse_metadata_path)\n",
    "study_results_df = pd.read_csv(study_results_path)\n",
    "\n",
    "# Combine the data into a single dataset\n",
    "allmice_df = pd.merge(mouse_metadata_df, study_results_df, on='Mouse ID', how='outer')\n",
    "\n",
    "# Display the data table for preview\n",
    "allmice_df"
   ]
  },
  {
   "cell_type": "code",
   "execution_count": 465,
   "metadata": {},
   "outputs": [],
   "source": [
    "# Checking the number of mice.\n",
    "unique_mice = allmice_df['Mouse ID'].nunique()"
   ]
  },
  {
   "cell_type": "code",
   "execution_count": 466,
   "metadata": {},
   "outputs": [],
   "source": [
    "#J: just getting further sense of the dataset to guage how much data may be lost\n",
    "# 1893/249 = 7.6; 1893/10 = 189.3\n",
    "datapoints = allmice_df['Timepoint'].nunique()"
   ]
  },
  {
   "cell_type": "code",
   "execution_count": 467,
   "metadata": {},
   "outputs": [
    {
     "output_type": "stream",
     "name": "stdout",
     "text": [
      "Duplicate Rows :\n"
     ]
    },
    {
     "output_type": "execute_result",
     "data": {
      "text/plain": [
       "    Mouse ID Drug Regimen     Sex  Age_months  Weight (g)  Timepoint  \\\n",
       "908     g989     Propriva  Female          21          26          0   \n",
       "909     g989     Propriva  Female          21          26          0   \n",
       "910     g989     Propriva  Female          21          26          5   \n",
       "911     g989     Propriva  Female          21          26          5   \n",
       "912     g989     Propriva  Female          21          26         10   \n",
       "913     g989     Propriva  Female          21          26         10   \n",
       "914     g989     Propriva  Female          21          26         15   \n",
       "915     g989     Propriva  Female          21          26         15   \n",
       "916     g989     Propriva  Female          21          26         20   \n",
       "917     g989     Propriva  Female          21          26         20   \n",
       "\n",
       "     Tumor Volume (mm3)  Metastatic Sites  \n",
       "908           45.000000                 0  \n",
       "909           45.000000                 0  \n",
       "910           48.786801                 0  \n",
       "911           47.570392                 0  \n",
       "912           51.745156                 0  \n",
       "913           49.880528                 0  \n",
       "914           51.325852                 1  \n",
       "915           53.442020                 0  \n",
       "916           55.326122                 1  \n",
       "917           54.657650                 1  "
      ],
      "text/html": "<div>\n<style scoped>\n    .dataframe tbody tr th:only-of-type {\n        vertical-align: middle;\n    }\n\n    .dataframe tbody tr th {\n        vertical-align: top;\n    }\n\n    .dataframe thead th {\n        text-align: right;\n    }\n</style>\n<table border=\"1\" class=\"dataframe\">\n  <thead>\n    <tr style=\"text-align: right;\">\n      <th></th>\n      <th>Mouse ID</th>\n      <th>Drug Regimen</th>\n      <th>Sex</th>\n      <th>Age_months</th>\n      <th>Weight (g)</th>\n      <th>Timepoint</th>\n      <th>Tumor Volume (mm3)</th>\n      <th>Metastatic Sites</th>\n    </tr>\n  </thead>\n  <tbody>\n    <tr>\n      <th>908</th>\n      <td>g989</td>\n      <td>Propriva</td>\n      <td>Female</td>\n      <td>21</td>\n      <td>26</td>\n      <td>0</td>\n      <td>45.000000</td>\n      <td>0</td>\n    </tr>\n    <tr>\n      <th>909</th>\n      <td>g989</td>\n      <td>Propriva</td>\n      <td>Female</td>\n      <td>21</td>\n      <td>26</td>\n      <td>0</td>\n      <td>45.000000</td>\n      <td>0</td>\n    </tr>\n    <tr>\n      <th>910</th>\n      <td>g989</td>\n      <td>Propriva</td>\n      <td>Female</td>\n      <td>21</td>\n      <td>26</td>\n      <td>5</td>\n      <td>48.786801</td>\n      <td>0</td>\n    </tr>\n    <tr>\n      <th>911</th>\n      <td>g989</td>\n      <td>Propriva</td>\n      <td>Female</td>\n      <td>21</td>\n      <td>26</td>\n      <td>5</td>\n      <td>47.570392</td>\n      <td>0</td>\n    </tr>\n    <tr>\n      <th>912</th>\n      <td>g989</td>\n      <td>Propriva</td>\n      <td>Female</td>\n      <td>21</td>\n      <td>26</td>\n      <td>10</td>\n      <td>51.745156</td>\n      <td>0</td>\n    </tr>\n    <tr>\n      <th>913</th>\n      <td>g989</td>\n      <td>Propriva</td>\n      <td>Female</td>\n      <td>21</td>\n      <td>26</td>\n      <td>10</td>\n      <td>49.880528</td>\n      <td>0</td>\n    </tr>\n    <tr>\n      <th>914</th>\n      <td>g989</td>\n      <td>Propriva</td>\n      <td>Female</td>\n      <td>21</td>\n      <td>26</td>\n      <td>15</td>\n      <td>51.325852</td>\n      <td>1</td>\n    </tr>\n    <tr>\n      <th>915</th>\n      <td>g989</td>\n      <td>Propriva</td>\n      <td>Female</td>\n      <td>21</td>\n      <td>26</td>\n      <td>15</td>\n      <td>53.442020</td>\n      <td>0</td>\n    </tr>\n    <tr>\n      <th>916</th>\n      <td>g989</td>\n      <td>Propriva</td>\n      <td>Female</td>\n      <td>21</td>\n      <td>26</td>\n      <td>20</td>\n      <td>55.326122</td>\n      <td>1</td>\n    </tr>\n    <tr>\n      <th>917</th>\n      <td>g989</td>\n      <td>Propriva</td>\n      <td>Female</td>\n      <td>21</td>\n      <td>26</td>\n      <td>20</td>\n      <td>54.657650</td>\n      <td>1</td>\n    </tr>\n  </tbody>\n</table>\n</div>"
     },
     "metadata": {},
     "execution_count": 467
    }
   ],
   "source": [
    "# Getting the duplicate mice by ID number that shows up for Mouse ID and Timepoint. \n",
    "duplo_rows_df = allmice_df[allmice_df.duplicated(subset=['Mouse ID','Timepoint'],keep=False)]\n",
    "print(\"Duplicate Rows :\")\n",
    "duplo_rows_df"
   ]
  },
  {
   "cell_type": "code",
   "execution_count": 468,
   "metadata": {},
   "outputs": [
    {
     "output_type": "execute_result",
     "data": {
      "text/plain": [
       "    Mouse ID Drug Regimen     Sex  Age_months  Weight (g)  Timepoint  \\\n",
       "908     g989     Propriva  Female          21          26          0   \n",
       "909     g989     Propriva  Female          21          26          0   \n",
       "910     g989     Propriva  Female          21          26          5   \n",
       "911     g989     Propriva  Female          21          26          5   \n",
       "912     g989     Propriva  Female          21          26         10   \n",
       "913     g989     Propriva  Female          21          26         10   \n",
       "914     g989     Propriva  Female          21          26         15   \n",
       "915     g989     Propriva  Female          21          26         15   \n",
       "916     g989     Propriva  Female          21          26         20   \n",
       "917     g989     Propriva  Female          21          26         20   \n",
       "918     g989     Propriva  Female          21          26         25   \n",
       "919     g989     Propriva  Female          21          26         30   \n",
       "920     g989     Propriva  Female          21          26         35   \n",
       "\n",
       "     Tumor Volume (mm3)  Metastatic Sites  \n",
       "908           45.000000                 0  \n",
       "909           45.000000                 0  \n",
       "910           48.786801                 0  \n",
       "911           47.570392                 0  \n",
       "912           51.745156                 0  \n",
       "913           49.880528                 0  \n",
       "914           51.325852                 1  \n",
       "915           53.442020                 0  \n",
       "916           55.326122                 1  \n",
       "917           54.657650                 1  \n",
       "918           56.045564                 1  \n",
       "919           59.082294                 1  \n",
       "920           62.570880                 2  "
      ],
      "text/html": "<div>\n<style scoped>\n    .dataframe tbody tr th:only-of-type {\n        vertical-align: middle;\n    }\n\n    .dataframe tbody tr th {\n        vertical-align: top;\n    }\n\n    .dataframe thead th {\n        text-align: right;\n    }\n</style>\n<table border=\"1\" class=\"dataframe\">\n  <thead>\n    <tr style=\"text-align: right;\">\n      <th></th>\n      <th>Mouse ID</th>\n      <th>Drug Regimen</th>\n      <th>Sex</th>\n      <th>Age_months</th>\n      <th>Weight (g)</th>\n      <th>Timepoint</th>\n      <th>Tumor Volume (mm3)</th>\n      <th>Metastatic Sites</th>\n    </tr>\n  </thead>\n  <tbody>\n    <tr>\n      <th>908</th>\n      <td>g989</td>\n      <td>Propriva</td>\n      <td>Female</td>\n      <td>21</td>\n      <td>26</td>\n      <td>0</td>\n      <td>45.000000</td>\n      <td>0</td>\n    </tr>\n    <tr>\n      <th>909</th>\n      <td>g989</td>\n      <td>Propriva</td>\n      <td>Female</td>\n      <td>21</td>\n      <td>26</td>\n      <td>0</td>\n      <td>45.000000</td>\n      <td>0</td>\n    </tr>\n    <tr>\n      <th>910</th>\n      <td>g989</td>\n      <td>Propriva</td>\n      <td>Female</td>\n      <td>21</td>\n      <td>26</td>\n      <td>5</td>\n      <td>48.786801</td>\n      <td>0</td>\n    </tr>\n    <tr>\n      <th>911</th>\n      <td>g989</td>\n      <td>Propriva</td>\n      <td>Female</td>\n      <td>21</td>\n      <td>26</td>\n      <td>5</td>\n      <td>47.570392</td>\n      <td>0</td>\n    </tr>\n    <tr>\n      <th>912</th>\n      <td>g989</td>\n      <td>Propriva</td>\n      <td>Female</td>\n      <td>21</td>\n      <td>26</td>\n      <td>10</td>\n      <td>51.745156</td>\n      <td>0</td>\n    </tr>\n    <tr>\n      <th>913</th>\n      <td>g989</td>\n      <td>Propriva</td>\n      <td>Female</td>\n      <td>21</td>\n      <td>26</td>\n      <td>10</td>\n      <td>49.880528</td>\n      <td>0</td>\n    </tr>\n    <tr>\n      <th>914</th>\n      <td>g989</td>\n      <td>Propriva</td>\n      <td>Female</td>\n      <td>21</td>\n      <td>26</td>\n      <td>15</td>\n      <td>51.325852</td>\n      <td>1</td>\n    </tr>\n    <tr>\n      <th>915</th>\n      <td>g989</td>\n      <td>Propriva</td>\n      <td>Female</td>\n      <td>21</td>\n      <td>26</td>\n      <td>15</td>\n      <td>53.442020</td>\n      <td>0</td>\n    </tr>\n    <tr>\n      <th>916</th>\n      <td>g989</td>\n      <td>Propriva</td>\n      <td>Female</td>\n      <td>21</td>\n      <td>26</td>\n      <td>20</td>\n      <td>55.326122</td>\n      <td>1</td>\n    </tr>\n    <tr>\n      <th>917</th>\n      <td>g989</td>\n      <td>Propriva</td>\n      <td>Female</td>\n      <td>21</td>\n      <td>26</td>\n      <td>20</td>\n      <td>54.657650</td>\n      <td>1</td>\n    </tr>\n    <tr>\n      <th>918</th>\n      <td>g989</td>\n      <td>Propriva</td>\n      <td>Female</td>\n      <td>21</td>\n      <td>26</td>\n      <td>25</td>\n      <td>56.045564</td>\n      <td>1</td>\n    </tr>\n    <tr>\n      <th>919</th>\n      <td>g989</td>\n      <td>Propriva</td>\n      <td>Female</td>\n      <td>21</td>\n      <td>26</td>\n      <td>30</td>\n      <td>59.082294</td>\n      <td>1</td>\n    </tr>\n    <tr>\n      <th>920</th>\n      <td>g989</td>\n      <td>Propriva</td>\n      <td>Female</td>\n      <td>21</td>\n      <td>26</td>\n      <td>35</td>\n      <td>62.570880</td>\n      <td>2</td>\n    </tr>\n  </tbody>\n</table>\n</div>"
     },
     "metadata": {},
     "execution_count": 468
    }
   ],
   "source": [
    "# Optional: Get all the data for the duplicate mouse ID. \n",
    "g989_df = allmice_df.loc[allmice_df['Mouse ID'] == 'g989', :]\n",
    "g989_df"
   ]
  },
  {
   "cell_type": "code",
   "execution_count": 469,
   "metadata": {},
   "outputs": [
    {
     "output_type": "execute_result",
     "data": {
      "text/plain": [
       "     Mouse ID Drug Regimen   Sex  Age_months  Weight (g)  Timepoint  \\\n",
       "0        k403     Ramicane  Male          21          16          0   \n",
       "1        k403     Ramicane  Male          21          16          5   \n",
       "2        k403     Ramicane  Male          21          16         10   \n",
       "3        k403     Ramicane  Male          21          16         15   \n",
       "4        k403     Ramicane  Male          21          16         20   \n",
       "...       ...          ...   ...         ...         ...        ...   \n",
       "1888     z969     Naftisol  Male           9          30         25   \n",
       "1889     z969     Naftisol  Male           9          30         30   \n",
       "1890     z969     Naftisol  Male           9          30         35   \n",
       "1891     z969     Naftisol  Male           9          30         40   \n",
       "1892     z969     Naftisol  Male           9          30         45   \n",
       "\n",
       "      Tumor Volume (mm3)  Metastatic Sites  \n",
       "0              45.000000                 0  \n",
       "1              38.825898                 0  \n",
       "2              35.014271                 1  \n",
       "3              34.223992                 1  \n",
       "4              32.997729                 1  \n",
       "...                  ...               ...  \n",
       "1888           63.145652                 2  \n",
       "1889           65.841013                 3  \n",
       "1890           69.176246                 4  \n",
       "1891           70.314904                 4  \n",
       "1892           73.867845                 4  \n",
       "\n",
       "[1880 rows x 8 columns]"
      ],
      "text/html": "<div>\n<style scoped>\n    .dataframe tbody tr th:only-of-type {\n        vertical-align: middle;\n    }\n\n    .dataframe tbody tr th {\n        vertical-align: top;\n    }\n\n    .dataframe thead th {\n        text-align: right;\n    }\n</style>\n<table border=\"1\" class=\"dataframe\">\n  <thead>\n    <tr style=\"text-align: right;\">\n      <th></th>\n      <th>Mouse ID</th>\n      <th>Drug Regimen</th>\n      <th>Sex</th>\n      <th>Age_months</th>\n      <th>Weight (g)</th>\n      <th>Timepoint</th>\n      <th>Tumor Volume (mm3)</th>\n      <th>Metastatic Sites</th>\n    </tr>\n  </thead>\n  <tbody>\n    <tr>\n      <th>0</th>\n      <td>k403</td>\n      <td>Ramicane</td>\n      <td>Male</td>\n      <td>21</td>\n      <td>16</td>\n      <td>0</td>\n      <td>45.000000</td>\n      <td>0</td>\n    </tr>\n    <tr>\n      <th>1</th>\n      <td>k403</td>\n      <td>Ramicane</td>\n      <td>Male</td>\n      <td>21</td>\n      <td>16</td>\n      <td>5</td>\n      <td>38.825898</td>\n      <td>0</td>\n    </tr>\n    <tr>\n      <th>2</th>\n      <td>k403</td>\n      <td>Ramicane</td>\n      <td>Male</td>\n      <td>21</td>\n      <td>16</td>\n      <td>10</td>\n      <td>35.014271</td>\n      <td>1</td>\n    </tr>\n    <tr>\n      <th>3</th>\n      <td>k403</td>\n      <td>Ramicane</td>\n      <td>Male</td>\n      <td>21</td>\n      <td>16</td>\n      <td>15</td>\n      <td>34.223992</td>\n      <td>1</td>\n    </tr>\n    <tr>\n      <th>4</th>\n      <td>k403</td>\n      <td>Ramicane</td>\n      <td>Male</td>\n      <td>21</td>\n      <td>16</td>\n      <td>20</td>\n      <td>32.997729</td>\n      <td>1</td>\n    </tr>\n    <tr>\n      <th>...</th>\n      <td>...</td>\n      <td>...</td>\n      <td>...</td>\n      <td>...</td>\n      <td>...</td>\n      <td>...</td>\n      <td>...</td>\n      <td>...</td>\n    </tr>\n    <tr>\n      <th>1888</th>\n      <td>z969</td>\n      <td>Naftisol</td>\n      <td>Male</td>\n      <td>9</td>\n      <td>30</td>\n      <td>25</td>\n      <td>63.145652</td>\n      <td>2</td>\n    </tr>\n    <tr>\n      <th>1889</th>\n      <td>z969</td>\n      <td>Naftisol</td>\n      <td>Male</td>\n      <td>9</td>\n      <td>30</td>\n      <td>30</td>\n      <td>65.841013</td>\n      <td>3</td>\n    </tr>\n    <tr>\n      <th>1890</th>\n      <td>z969</td>\n      <td>Naftisol</td>\n      <td>Male</td>\n      <td>9</td>\n      <td>30</td>\n      <td>35</td>\n      <td>69.176246</td>\n      <td>4</td>\n    </tr>\n    <tr>\n      <th>1891</th>\n      <td>z969</td>\n      <td>Naftisol</td>\n      <td>Male</td>\n      <td>9</td>\n      <td>30</td>\n      <td>40</td>\n      <td>70.314904</td>\n      <td>4</td>\n    </tr>\n    <tr>\n      <th>1892</th>\n      <td>z969</td>\n      <td>Naftisol</td>\n      <td>Male</td>\n      <td>9</td>\n      <td>30</td>\n      <td>45</td>\n      <td>73.867845</td>\n      <td>4</td>\n    </tr>\n  </tbody>\n</table>\n<p>1880 rows × 8 columns</p>\n</div>"
     },
     "metadata": {},
     "execution_count": 469
    }
   ],
   "source": [
    "# Create a clean DataFrame by dropping the duplicate mouse by its ID.\n",
    "clean_mice_df = allmice_df.loc[allmice_df['Mouse ID'] != 'g989', :]\n",
    "clean_mice_df"
   ]
  },
  {
   "cell_type": "code",
   "execution_count": 470,
   "metadata": {},
   "outputs": [
    {
     "output_type": "execute_result",
     "data": {
      "text/plain": [
       "248"
      ]
     },
     "metadata": {},
     "execution_count": 470
    }
   ],
   "source": [
    "# Checking the number of mice in the clean DataFrame.\n",
    "clean_mice = clean_mice_df['Mouse ID'].nunique()\n",
    "clean_mice"
   ]
  },
  {
   "cell_type": "markdown",
   "metadata": {},
   "source": [
    "## Summary Statistics"
   ]
  },
  {
   "cell_type": "code",
   "execution_count": 471,
   "metadata": {},
   "outputs": [],
   "source": [
    "# Generate a summary statistics table of mean, median, variance, standard deviation, and SEM of the tumor volume for each regimen\n",
    "\n",
    "# Use groupby and summary statistical methods to calculate the following properties of each drug regimen: \n",
    "# mean, median, variance, standard deviation, and SEM of the tumor volume. \n",
    "# Assemble the resulting series into a single summary dataframe.\n",
    "\n"
   ]
  },
  {
   "cell_type": "code",
   "execution_count": 472,
   "metadata": {},
   "outputs": [],
   "source": [
    "# Use groupby and summary statistical methods to calculate the following properties of each drug regimen: \n",
    "# mean, median, variance, standard deviation, and SEM of the tumor volume. "
   ]
  },
  {
   "cell_type": "code",
   "execution_count": 473,
   "metadata": {},
   "outputs": [],
   "source": [
    "#test_indexing = clean_mice_df.groupby('Drug Regimen')['Tumor Volume (mm3)'].mean()"
   ]
  },
  {
   "cell_type": "code",
   "execution_count": 474,
   "metadata": {},
   "outputs": [
    {
     "output_type": "execute_result",
     "data": {
      "text/plain": [
       "Drug Regimen\n",
       "Capomulin    40.675741\n",
       "Ceftamin     52.591172\n",
       "Infubinol    52.884795\n",
       "Ketapril     55.235638\n",
       "Naftisol     54.331565\n",
       "Placebo      54.033581\n",
       "Propriva     52.320930\n",
       "Ramicane     40.216745\n",
       "Stelasyn     54.233149\n",
       "Zoniferol    53.236507\n",
       "Name: Tumor Volume (mm3), dtype: float64"
      ]
     },
     "metadata": {},
     "execution_count": 474
    }
   ],
   "source": [
    "# mean tumor volue\n",
    "tumor_mean_df = clean_mice_df.groupby('Drug Regimen')['Tumor Volume (mm3)'].mean()\n",
    "tumor_mean_df"
   ]
  },
  {
   "cell_type": "code",
   "execution_count": 475,
   "metadata": {},
   "outputs": [
    {
     "output_type": "execute_result",
     "data": {
      "text/plain": [
       "Drug Regimen\n",
       "Capomulin    41.557809\n",
       "Ceftamin     51.776157\n",
       "Infubinol    51.820584\n",
       "Ketapril     53.698743\n",
       "Naftisol     52.509285\n",
       "Placebo      52.288934\n",
       "Propriva     50.446266\n",
       "Ramicane     40.673236\n",
       "Stelasyn     52.431737\n",
       "Zoniferol    51.818479\n",
       "Name: Tumor Volume (mm3), dtype: float64"
      ]
     },
     "metadata": {},
     "execution_count": 475
    }
   ],
   "source": [
    "# median tumor volume \n",
    "tumor_med_df = clean_mice_df.groupby('Drug Regimen')['Tumor Volume (mm3)'].median()\n",
    "tumor_med_df"
   ]
  },
  {
   "cell_type": "code",
   "execution_count": 476,
   "metadata": {},
   "outputs": [
    {
     "output_type": "execute_result",
     "data": {
      "text/plain": [
       "Drug Regimen\n",
       "Capomulin    24.947764\n",
       "Ceftamin     39.290177\n",
       "Infubinol    43.128684\n",
       "Ketapril     68.553577\n",
       "Naftisol     66.173479\n",
       "Placebo      61.168083\n",
       "Propriva     43.852013\n",
       "Ramicane     23.486704\n",
       "Stelasyn     59.450562\n",
       "Zoniferol    48.533355\n",
       "Name: Tumor Volume (mm3), dtype: float64"
      ]
     },
     "metadata": {},
     "execution_count": 476
    }
   ],
   "source": [
    "# variance tumor volume \n",
    "tumor_var_df = clean_mice_df.groupby('Drug Regimen')['Tumor Volume (mm3)'].var()\n",
    "tumor_var_df"
   ]
  },
  {
   "cell_type": "code",
   "execution_count": 477,
   "metadata": {},
   "outputs": [
    {
     "output_type": "execute_result",
     "data": {
      "text/plain": [
       "Drug Regimen\n",
       "Capomulin    4.994774\n",
       "Ceftamin     6.268188\n",
       "Infubinol    6.567243\n",
       "Ketapril     8.279709\n",
       "Naftisol     8.134708\n",
       "Placebo      7.821003\n",
       "Propriva     6.622085\n",
       "Ramicane     4.846308\n",
       "Stelasyn     7.710419\n",
       "Zoniferol    6.966589\n",
       "Name: Tumor Volume (mm3), dtype: float64"
      ]
     },
     "metadata": {},
     "execution_count": 477
    }
   ],
   "source": [
    "# standard deviation tumor volume\n",
    "tumor_std_df = clean_mice_df.groupby('Drug Regimen')['Tumor Volume (mm3)'].std()\n",
    "tumor_std_df"
   ]
  },
  {
   "cell_type": "code",
   "execution_count": 478,
   "metadata": {},
   "outputs": [
    {
     "output_type": "execute_result",
     "data": {
      "text/plain": [
       "Drug Regimen\n",
       "Capomulin    0.329346\n",
       "Ceftamin     0.469821\n",
       "Infubinol    0.492236\n",
       "Ketapril     0.603860\n",
       "Naftisol     0.596466\n",
       "Placebo      0.581331\n",
       "Propriva     0.544332\n",
       "Ramicane     0.320955\n",
       "Stelasyn     0.573111\n",
       "Zoniferol    0.516398\n",
       "Name: Tumor Volume (mm3), dtype: float64"
      ]
     },
     "metadata": {},
     "execution_count": 478
    }
   ],
   "source": [
    "# SEM of the tumor volume\n",
    "tumor_sem_df = clean_mice_df.groupby('Drug Regimen')['Tumor Volume (mm3)'].sem()\n",
    "tumor_sem_df"
   ]
  },
  {
   "cell_type": "code",
   "execution_count": 479,
   "metadata": {},
   "outputs": [
    {
     "output_type": "execute_result",
     "data": {
      "text/plain": [
       "              Tumor Volume (mm3)_x  Tumor Volume (mm3)_y\n",
       "Drug Regimen                                            \n",
       "Capomulin                40.675741             41.557809\n",
       "Ceftamin                 52.591172             51.776157\n",
       "Infubinol                52.884795             51.820584\n",
       "Ketapril                 55.235638             53.698743\n",
       "Naftisol                 54.331565             52.509285\n",
       "Placebo                  54.033581             52.288934\n",
       "Propriva                 52.320930             50.446266\n",
       "Ramicane                 40.216745             40.673236\n",
       "Stelasyn                 54.233149             52.431737\n",
       "Zoniferol                53.236507             51.818479"
      ],
      "text/html": "<div>\n<style scoped>\n    .dataframe tbody tr th:only-of-type {\n        vertical-align: middle;\n    }\n\n    .dataframe tbody tr th {\n        vertical-align: top;\n    }\n\n    .dataframe thead th {\n        text-align: right;\n    }\n</style>\n<table border=\"1\" class=\"dataframe\">\n  <thead>\n    <tr style=\"text-align: right;\">\n      <th></th>\n      <th>Tumor Volume (mm3)_x</th>\n      <th>Tumor Volume (mm3)_y</th>\n    </tr>\n    <tr>\n      <th>Drug Regimen</th>\n      <th></th>\n      <th></th>\n    </tr>\n  </thead>\n  <tbody>\n    <tr>\n      <th>Capomulin</th>\n      <td>40.675741</td>\n      <td>41.557809</td>\n    </tr>\n    <tr>\n      <th>Ceftamin</th>\n      <td>52.591172</td>\n      <td>51.776157</td>\n    </tr>\n    <tr>\n      <th>Infubinol</th>\n      <td>52.884795</td>\n      <td>51.820584</td>\n    </tr>\n    <tr>\n      <th>Ketapril</th>\n      <td>55.235638</td>\n      <td>53.698743</td>\n    </tr>\n    <tr>\n      <th>Naftisol</th>\n      <td>54.331565</td>\n      <td>52.509285</td>\n    </tr>\n    <tr>\n      <th>Placebo</th>\n      <td>54.033581</td>\n      <td>52.288934</td>\n    </tr>\n    <tr>\n      <th>Propriva</th>\n      <td>52.320930</td>\n      <td>50.446266</td>\n    </tr>\n    <tr>\n      <th>Ramicane</th>\n      <td>40.216745</td>\n      <td>40.673236</td>\n    </tr>\n    <tr>\n      <th>Stelasyn</th>\n      <td>54.233149</td>\n      <td>52.431737</td>\n    </tr>\n    <tr>\n      <th>Zoniferol</th>\n      <td>53.236507</td>\n      <td>51.818479</td>\n    </tr>\n  </tbody>\n</table>\n</div>"
     },
     "metadata": {},
     "execution_count": 479
    }
   ],
   "source": [
    "# merging to single dataframe\n",
    "summary_lw_df = pd.merge(tumor_mean_df,tumor_med_df, on='Drug Regimen')\n",
    "summary_lw_df"
   ]
  },
  {
   "cell_type": "code",
   "execution_count": 480,
   "metadata": {},
   "outputs": [
    {
     "output_type": "execute_result",
     "data": {
      "text/plain": [
       "                   Mean     Median   Variance  Standard Deviation  \\\n",
       "Drug Regimen                                                        \n",
       "Capomulin     40.675741  41.557809  24.947764            4.994774   \n",
       "Ceftamin      52.591172  51.776157  39.290177            6.268188   \n",
       "Infubinol     52.884795  51.820584  43.128684            6.567243   \n",
       "Ketapril      55.235638  53.698743  68.553577            8.279709   \n",
       "Naftisol      54.331565  52.509285  66.173479            8.134708   \n",
       "Placebo       54.033581  52.288934  61.168083            7.821003   \n",
       "Propriva      52.320930  50.446266  43.852013            6.622085   \n",
       "Ramicane      40.216745  40.673236  23.486704            4.846308   \n",
       "Stelasyn      54.233149  52.431737  59.450562            7.710419   \n",
       "Zoniferol     53.236507  51.818479  48.533355            6.966589   \n",
       "\n",
       "              Standard Error of Mean  \n",
       "Drug Regimen                          \n",
       "Capomulin                   0.329346  \n",
       "Ceftamin                    0.469821  \n",
       "Infubinol                   0.492236  \n",
       "Ketapril                    0.603860  \n",
       "Naftisol                    0.596466  \n",
       "Placebo                     0.581331  \n",
       "Propriva                    0.544332  \n",
       "Ramicane                    0.320955  \n",
       "Stelasyn                    0.573111  \n",
       "Zoniferol                   0.516398  "
      ],
      "text/html": "<div>\n<style scoped>\n    .dataframe tbody tr th:only-of-type {\n        vertical-align: middle;\n    }\n\n    .dataframe tbody tr th {\n        vertical-align: top;\n    }\n\n    .dataframe thead th {\n        text-align: right;\n    }\n</style>\n<table border=\"1\" class=\"dataframe\">\n  <thead>\n    <tr style=\"text-align: right;\">\n      <th></th>\n      <th>Mean</th>\n      <th>Median</th>\n      <th>Variance</th>\n      <th>Standard Deviation</th>\n      <th>Standard Error of Mean</th>\n    </tr>\n    <tr>\n      <th>Drug Regimen</th>\n      <th></th>\n      <th></th>\n      <th></th>\n      <th></th>\n      <th></th>\n    </tr>\n  </thead>\n  <tbody>\n    <tr>\n      <th>Capomulin</th>\n      <td>40.675741</td>\n      <td>41.557809</td>\n      <td>24.947764</td>\n      <td>4.994774</td>\n      <td>0.329346</td>\n    </tr>\n    <tr>\n      <th>Ceftamin</th>\n      <td>52.591172</td>\n      <td>51.776157</td>\n      <td>39.290177</td>\n      <td>6.268188</td>\n      <td>0.469821</td>\n    </tr>\n    <tr>\n      <th>Infubinol</th>\n      <td>52.884795</td>\n      <td>51.820584</td>\n      <td>43.128684</td>\n      <td>6.567243</td>\n      <td>0.492236</td>\n    </tr>\n    <tr>\n      <th>Ketapril</th>\n      <td>55.235638</td>\n      <td>53.698743</td>\n      <td>68.553577</td>\n      <td>8.279709</td>\n      <td>0.603860</td>\n    </tr>\n    <tr>\n      <th>Naftisol</th>\n      <td>54.331565</td>\n      <td>52.509285</td>\n      <td>66.173479</td>\n      <td>8.134708</td>\n      <td>0.596466</td>\n    </tr>\n    <tr>\n      <th>Placebo</th>\n      <td>54.033581</td>\n      <td>52.288934</td>\n      <td>61.168083</td>\n      <td>7.821003</td>\n      <td>0.581331</td>\n    </tr>\n    <tr>\n      <th>Propriva</th>\n      <td>52.320930</td>\n      <td>50.446266</td>\n      <td>43.852013</td>\n      <td>6.622085</td>\n      <td>0.544332</td>\n    </tr>\n    <tr>\n      <th>Ramicane</th>\n      <td>40.216745</td>\n      <td>40.673236</td>\n      <td>23.486704</td>\n      <td>4.846308</td>\n      <td>0.320955</td>\n    </tr>\n    <tr>\n      <th>Stelasyn</th>\n      <td>54.233149</td>\n      <td>52.431737</td>\n      <td>59.450562</td>\n      <td>7.710419</td>\n      <td>0.573111</td>\n    </tr>\n    <tr>\n      <th>Zoniferol</th>\n      <td>53.236507</td>\n      <td>51.818479</td>\n      <td>48.533355</td>\n      <td>6.966589</td>\n      <td>0.516398</td>\n    </tr>\n  </tbody>\n</table>\n</div>"
     },
     "metadata": {},
     "execution_count": 480
    }
   ],
   "source": [
    "summary_lw_df = pd.merge(summary_lw_df,tumor_var_df, on='Drug Regimen')\n",
    "# rename first 3 columns before merging the remaining\n",
    "summary_lw_df = summary_lw_df.rename(columns={'Tumor Volume (mm3)_x':'Mean','Tumor Volume (mm3)_y':'Median','Tumor Volume (mm3)':'Variance'})\n",
    "# merge std & rename column\n",
    "summary_lw_df = pd.merge(summary_lw_df,tumor_std_df, on='Drug Regimen')\n",
    "summary_lw_df = summary_lw_df.rename(columns={'Tumor Volume (mm3)':'Standard Deviation'})\n",
    "# merge sem & rename column\n",
    "summary_lw_df = pd.merge(summary_lw_df,tumor_sem_df, on='Drug Regimen')\n",
    "summary_lw_df = summary_lw_df.rename(columns={'Tumor Volume (mm3)':'Standard Error of Mean'})\n",
    "summary_lw_df"
   ]
  },
  {
   "cell_type": "code",
   "execution_count": null,
   "metadata": {},
   "outputs": [],
   "source": []
  },
  {
   "cell_type": "code",
   "execution_count": null,
   "metadata": {},
   "outputs": [],
   "source": []
  },
  {
   "cell_type": "code",
   "execution_count": 481,
   "metadata": {},
   "outputs": [],
   "source": [
    "## TRY TO REFORMAT DATA FRAME: number format, maybe column names"
   ]
  },
  {
   "cell_type": "code",
   "execution_count": 482,
   "metadata": {},
   "outputs": [
    {
     "output_type": "execute_result",
     "data": {
      "text/plain": [
       "             Tumor Volume (mm3)                                          \n",
       "                           mean     median        var       std       sem\n",
       "Drug Regimen                                                             \n",
       "Capomulin             40.675741  41.557809  24.947764  4.994774  0.329346\n",
       "Ceftamin              52.591172  51.776157  39.290177  6.268188  0.469821\n",
       "Infubinol             52.884795  51.820584  43.128684  6.567243  0.492236\n",
       "Ketapril              55.235638  53.698743  68.553577  8.279709  0.603860\n",
       "Naftisol              54.331565  52.509285  66.173479  8.134708  0.596466\n",
       "Placebo               54.033581  52.288934  61.168083  7.821003  0.581331\n",
       "Propriva              52.320930  50.446266  43.852013  6.622085  0.544332\n",
       "Ramicane              40.216745  40.673236  23.486704  4.846308  0.320955\n",
       "Stelasyn              54.233149  52.431737  59.450562  7.710419  0.573111\n",
       "Zoniferol             53.236507  51.818479  48.533355  6.966589  0.516398"
      ],
      "text/html": "<div>\n<style scoped>\n    .dataframe tbody tr th:only-of-type {\n        vertical-align: middle;\n    }\n\n    .dataframe tbody tr th {\n        vertical-align: top;\n    }\n\n    .dataframe thead tr th {\n        text-align: left;\n    }\n\n    .dataframe thead tr:last-of-type th {\n        text-align: right;\n    }\n</style>\n<table border=\"1\" class=\"dataframe\">\n  <thead>\n    <tr>\n      <th></th>\n      <th colspan=\"5\" halign=\"left\">Tumor Volume (mm3)</th>\n    </tr>\n    <tr>\n      <th></th>\n      <th>mean</th>\n      <th>median</th>\n      <th>var</th>\n      <th>std</th>\n      <th>sem</th>\n    </tr>\n    <tr>\n      <th>Drug Regimen</th>\n      <th></th>\n      <th></th>\n      <th></th>\n      <th></th>\n      <th></th>\n    </tr>\n  </thead>\n  <tbody>\n    <tr>\n      <th>Capomulin</th>\n      <td>40.675741</td>\n      <td>41.557809</td>\n      <td>24.947764</td>\n      <td>4.994774</td>\n      <td>0.329346</td>\n    </tr>\n    <tr>\n      <th>Ceftamin</th>\n      <td>52.591172</td>\n      <td>51.776157</td>\n      <td>39.290177</td>\n      <td>6.268188</td>\n      <td>0.469821</td>\n    </tr>\n    <tr>\n      <th>Infubinol</th>\n      <td>52.884795</td>\n      <td>51.820584</td>\n      <td>43.128684</td>\n      <td>6.567243</td>\n      <td>0.492236</td>\n    </tr>\n    <tr>\n      <th>Ketapril</th>\n      <td>55.235638</td>\n      <td>53.698743</td>\n      <td>68.553577</td>\n      <td>8.279709</td>\n      <td>0.603860</td>\n    </tr>\n    <tr>\n      <th>Naftisol</th>\n      <td>54.331565</td>\n      <td>52.509285</td>\n      <td>66.173479</td>\n      <td>8.134708</td>\n      <td>0.596466</td>\n    </tr>\n    <tr>\n      <th>Placebo</th>\n      <td>54.033581</td>\n      <td>52.288934</td>\n      <td>61.168083</td>\n      <td>7.821003</td>\n      <td>0.581331</td>\n    </tr>\n    <tr>\n      <th>Propriva</th>\n      <td>52.320930</td>\n      <td>50.446266</td>\n      <td>43.852013</td>\n      <td>6.622085</td>\n      <td>0.544332</td>\n    </tr>\n    <tr>\n      <th>Ramicane</th>\n      <td>40.216745</td>\n      <td>40.673236</td>\n      <td>23.486704</td>\n      <td>4.846308</td>\n      <td>0.320955</td>\n    </tr>\n    <tr>\n      <th>Stelasyn</th>\n      <td>54.233149</td>\n      <td>52.431737</td>\n      <td>59.450562</td>\n      <td>7.710419</td>\n      <td>0.573111</td>\n    </tr>\n    <tr>\n      <th>Zoniferol</th>\n      <td>53.236507</td>\n      <td>51.818479</td>\n      <td>48.533355</td>\n      <td>6.966589</td>\n      <td>0.516398</td>\n    </tr>\n  </tbody>\n</table>\n</div>"
     },
     "metadata": {},
     "execution_count": 482
    }
   ],
   "source": [
    "# Generate a summary statistics table of mean, median, variance, standard deviation, and SEM of the tumor volume for each regimen\n",
    "\n",
    "# Using the aggregation method, produce the same summary statistics in a single line\n",
    "#J: This is how I did it to start with, so I went back & wrote out the long way above.\n",
    "summary1_df = clean_mice_df.groupby('Drug Regimen').agg({'Tumor Volume (mm3)': ['mean', 'median', 'var', 'std', 'sem']})\n",
    "summary1_df"
   ]
  },
  {
   "cell_type": "markdown",
   "metadata": {},
   "source": [
    "## Bar and Pie Charts"
   ]
  },
  {
   "cell_type": "code",
   "execution_count": 483,
   "metadata": {},
   "outputs": [],
   "source": [
    "# Generate a bar plot showing the total number of timepoints for all mice tested for each drug regimen using Pandas.\n",
    "\n"
   ]
  },
  {
   "cell_type": "code",
   "execution_count": 484,
   "metadata": {},
   "outputs": [
    {
     "output_type": "execute_result",
     "data": {
      "text/plain": [
       "  Mouse ID Drug Regimen   Sex  Age_months  Weight (g)  Timepoint  \\\n",
       "0     k403     Ramicane  Male          21          16          0   \n",
       "1     k403     Ramicane  Male          21          16          5   \n",
       "2     k403     Ramicane  Male          21          16         10   \n",
       "3     k403     Ramicane  Male          21          16         15   \n",
       "4     k403     Ramicane  Male          21          16         20   \n",
       "\n",
       "   Tumor Volume (mm3)  Metastatic Sites  \n",
       "0           45.000000                 0  \n",
       "1           38.825898                 0  \n",
       "2           35.014271                 1  \n",
       "3           34.223992                 1  \n",
       "4           32.997729                 1  "
      ],
      "text/html": "<div>\n<style scoped>\n    .dataframe tbody tr th:only-of-type {\n        vertical-align: middle;\n    }\n\n    .dataframe tbody tr th {\n        vertical-align: top;\n    }\n\n    .dataframe thead th {\n        text-align: right;\n    }\n</style>\n<table border=\"1\" class=\"dataframe\">\n  <thead>\n    <tr style=\"text-align: right;\">\n      <th></th>\n      <th>Mouse ID</th>\n      <th>Drug Regimen</th>\n      <th>Sex</th>\n      <th>Age_months</th>\n      <th>Weight (g)</th>\n      <th>Timepoint</th>\n      <th>Tumor Volume (mm3)</th>\n      <th>Metastatic Sites</th>\n    </tr>\n  </thead>\n  <tbody>\n    <tr>\n      <th>0</th>\n      <td>k403</td>\n      <td>Ramicane</td>\n      <td>Male</td>\n      <td>21</td>\n      <td>16</td>\n      <td>0</td>\n      <td>45.000000</td>\n      <td>0</td>\n    </tr>\n    <tr>\n      <th>1</th>\n      <td>k403</td>\n      <td>Ramicane</td>\n      <td>Male</td>\n      <td>21</td>\n      <td>16</td>\n      <td>5</td>\n      <td>38.825898</td>\n      <td>0</td>\n    </tr>\n    <tr>\n      <th>2</th>\n      <td>k403</td>\n      <td>Ramicane</td>\n      <td>Male</td>\n      <td>21</td>\n      <td>16</td>\n      <td>10</td>\n      <td>35.014271</td>\n      <td>1</td>\n    </tr>\n    <tr>\n      <th>3</th>\n      <td>k403</td>\n      <td>Ramicane</td>\n      <td>Male</td>\n      <td>21</td>\n      <td>16</td>\n      <td>15</td>\n      <td>34.223992</td>\n      <td>1</td>\n    </tr>\n    <tr>\n      <th>4</th>\n      <td>k403</td>\n      <td>Ramicane</td>\n      <td>Male</td>\n      <td>21</td>\n      <td>16</td>\n      <td>20</td>\n      <td>32.997729</td>\n      <td>1</td>\n    </tr>\n  </tbody>\n</table>\n</div>"
     },
     "metadata": {},
     "execution_count": 484
    }
   ],
   "source": [
    "# looking at clean_mice so I don't have to scroll up --TAKE OUT LATER\n",
    "clean_mice_df.head()"
   ]
  },
  {
   "cell_type": "code",
   "execution_count": 485,
   "metadata": {},
   "outputs": [
    {
     "output_type": "execute_result",
     "data": {
      "text/plain": [
       "Drug Regimen\n",
       "Capomulin    4960\n",
       "Ceftamin     3515\n",
       "Infubinol    3235\n",
       "Ketapril     3705\n",
       "Naftisol     3650\n",
       "Placebo      3380\n",
       "Propriva     2525\n",
       "Ramicane     4885\n",
       "Stelasyn     3480\n",
       "Zoniferol    3525\n",
       "Name: Timepoint, dtype: int64"
      ]
     },
     "metadata": {},
     "execution_count": 485
    }
   ],
   "source": [
    "# Generate a bar plot showing the total number of timepoints for all mice tested for each drug regimen using pyplot.\n",
    "# x = drug\n",
    "# y = total number of timepoints\n",
    "plot1_df = clean_mice_df.groupby('Drug Regimen')['Timepoint'].sum()\n",
    "plot1_df"
   ]
  },
  {
   "cell_type": "code",
   "execution_count": 486,
   "metadata": {},
   "outputs": [
    {
     "output_type": "execute_result",
     "data": {
      "text/plain": [
       "              Timepoint_x  Timepoint_y\n",
       "Drug Regimen                          \n",
       "Capomulin            4960         4960\n",
       "Ceftamin             3515         3515\n",
       "Infubinol            3235         3235\n",
       "Ketapril             3705         3705\n",
       "Naftisol             3650         3650\n",
       "Placebo              3380         3380\n",
       "Propriva             2525         2525\n",
       "Ramicane             4885         4885\n",
       "Stelasyn             3480         3480\n",
       "Zoniferol            3525         3525"
      ],
      "text/html": "<div>\n<style scoped>\n    .dataframe tbody tr th:only-of-type {\n        vertical-align: middle;\n    }\n\n    .dataframe tbody tr th {\n        vertical-align: top;\n    }\n\n    .dataframe thead th {\n        text-align: right;\n    }\n</style>\n<table border=\"1\" class=\"dataframe\">\n  <thead>\n    <tr style=\"text-align: right;\">\n      <th></th>\n      <th>Timepoint_x</th>\n      <th>Timepoint_y</th>\n    </tr>\n    <tr>\n      <th>Drug Regimen</th>\n      <th></th>\n      <th></th>\n    </tr>\n  </thead>\n  <tbody>\n    <tr>\n      <th>Capomulin</th>\n      <td>4960</td>\n      <td>4960</td>\n    </tr>\n    <tr>\n      <th>Ceftamin</th>\n      <td>3515</td>\n      <td>3515</td>\n    </tr>\n    <tr>\n      <th>Infubinol</th>\n      <td>3235</td>\n      <td>3235</td>\n    </tr>\n    <tr>\n      <th>Ketapril</th>\n      <td>3705</td>\n      <td>3705</td>\n    </tr>\n    <tr>\n      <th>Naftisol</th>\n      <td>3650</td>\n      <td>3650</td>\n    </tr>\n    <tr>\n      <th>Placebo</th>\n      <td>3380</td>\n      <td>3380</td>\n    </tr>\n    <tr>\n      <th>Propriva</th>\n      <td>2525</td>\n      <td>2525</td>\n    </tr>\n    <tr>\n      <th>Ramicane</th>\n      <td>4885</td>\n      <td>4885</td>\n    </tr>\n    <tr>\n      <th>Stelasyn</th>\n      <td>3480</td>\n      <td>3480</td>\n    </tr>\n    <tr>\n      <th>Zoniferol</th>\n      <td>3525</td>\n      <td>3525</td>\n    </tr>\n  </tbody>\n</table>\n</div>"
     },
     "metadata": {},
     "execution_count": 486
    }
   ],
   "source": [
    "# I couldn't call the columns later on because Timepoint was missing its name, but now that I can rename these, I should be able to call it for the next step.\n",
    "# not working, it's not letting me call drug regimen\n",
    "plot1_df = pd.merge(plot1_df, plot1_df, on='Drug Regimen')\n",
    "plot1_df"
   ]
  },
  {
   "cell_type": "code",
   "execution_count": 487,
   "metadata": {},
   "outputs": [
    {
     "output_type": "execute_result",
     "data": {
      "text/plain": [
       "              Timepoint_x  Timepoint_y\n",
       "Drug Regimen                          \n",
       "Capomulin            4960         4960\n",
       "Ceftamin             3515         3515\n",
       "Infubinol            3235         3235\n",
       "Ketapril             3705         3705\n",
       "Naftisol             3650         3650\n",
       "Placebo              3380         3380\n",
       "Propriva             2525         2525\n",
       "Ramicane             4885         4885\n",
       "Stelasyn             3480         3480\n",
       "Zoniferol            3525         3525"
      ],
      "text/html": "<div>\n<style scoped>\n    .dataframe tbody tr th:only-of-type {\n        vertical-align: middle;\n    }\n\n    .dataframe tbody tr th {\n        vertical-align: top;\n    }\n\n    .dataframe thead th {\n        text-align: right;\n    }\n</style>\n<table border=\"1\" class=\"dataframe\">\n  <thead>\n    <tr style=\"text-align: right;\">\n      <th></th>\n      <th>Timepoint_x</th>\n      <th>Timepoint_y</th>\n    </tr>\n    <tr>\n      <th>Drug Regimen</th>\n      <th></th>\n      <th></th>\n    </tr>\n  </thead>\n  <tbody>\n    <tr>\n      <th>Capomulin</th>\n      <td>4960</td>\n      <td>4960</td>\n    </tr>\n    <tr>\n      <th>Ceftamin</th>\n      <td>3515</td>\n      <td>3515</td>\n    </tr>\n    <tr>\n      <th>Infubinol</th>\n      <td>3235</td>\n      <td>3235</td>\n    </tr>\n    <tr>\n      <th>Ketapril</th>\n      <td>3705</td>\n      <td>3705</td>\n    </tr>\n    <tr>\n      <th>Naftisol</th>\n      <td>3650</td>\n      <td>3650</td>\n    </tr>\n    <tr>\n      <th>Placebo</th>\n      <td>3380</td>\n      <td>3380</td>\n    </tr>\n    <tr>\n      <th>Propriva</th>\n      <td>2525</td>\n      <td>2525</td>\n    </tr>\n    <tr>\n      <th>Ramicane</th>\n      <td>4885</td>\n      <td>4885</td>\n    </tr>\n    <tr>\n      <th>Stelasyn</th>\n      <td>3480</td>\n      <td>3480</td>\n    </tr>\n    <tr>\n      <th>Zoniferol</th>\n      <td>3525</td>\n      <td>3525</td>\n    </tr>\n  </tbody>\n</table>\n</div>"
     },
     "metadata": {},
     "execution_count": 487
    }
   ],
   "source": [
    "# testing some stuff I saw in a video\n",
    "plot1_df.iloc[:]"
   ]
  },
  {
   "cell_type": "code",
   "execution_count": 488,
   "metadata": {},
   "outputs": [],
   "source": [
    "# renaming the columns & removing the duplicate\n",
    "plot1_df = plot1_df.rename(columns={'Timepoint_x':'Total Timepoints','Timepoint_y':'duplicates'})"
   ]
  },
  {
   "cell_type": "code",
   "execution_count": 489,
   "metadata": {},
   "outputs": [],
   "source": [
    "# removing duplicate column\n",
    "plot1_df = plot1_df.drop(columns='duplicates')"
   ]
  },
  {
   "cell_type": "code",
   "execution_count": 457,
   "metadata": {},
   "outputs": [],
   "source": [
    "# failed attempt to add treatments as a duplicate column that I can call\n",
    "# plot1_df['Treatment'] = [treatments]"
   ]
  },
  {
   "cell_type": "code",
   "execution_count": 459,
   "metadata": {},
   "outputs": [],
   "source": [
    "# failed attempt to add treatments as a duplicate column that I can call\n",
    "# plot1_again_df['Treatment'] = plot1_df.reindex()"
   ]
  },
  {
   "source": [
    "# Create an array that contains the number of users each language has\n",
    "users = [13000, 26000, 52000, 30000, 9000]\n",
    "x_axis = np.arange(len(users))"
   ],
   "cell_type": "markdown",
   "metadata": {}
  },
  {
   "cell_type": "code",
   "execution_count": 490,
   "metadata": {},
   "outputs": [
    {
     "output_type": "execute_result",
     "data": {
      "text/plain": [
       "[Drug Regimen\n",
       " Capomulin    [Capomulin]\n",
       " Ceftamin      [Ceftamin]\n",
       " Infubinol    [Infubinol]\n",
       " Ketapril      [Ketapril]\n",
       " Naftisol      [Naftisol]\n",
       " Placebo        [Placebo]\n",
       " Propriva      [Propriva]\n",
       " Ramicane      [Ramicane]\n",
       " Stelasyn      [Stelasyn]\n",
       " Zoniferol    [Zoniferol]\n",
       " Name: Drug Regimen, dtype: object]"
      ]
     },
     "metadata": {},
     "execution_count": 490
    }
   ],
   "source": [
    "# plot1 in pandas\n",
    "# creating an empty list for drugs\n",
    "# list of treatments\n",
    "treatments = [clean_mice_df.groupby('Drug Regimen')['Drug Regimen'].unique()]\n",
    "treatments\n",
    "# DO NOT UNDERSTAND WHY THIS IS SAYING IT'S 1 OBJECT WHEN TRYING TO PASS IT IN TO ADD COLUMN TO DATAFRAMES BELOW"
   ]
  },
  {
   "cell_type": "code",
   "execution_count": 491,
   "metadata": {},
   "outputs": [
    {
     "output_type": "execute_result",
     "data": {
      "text/plain": [
       "['Capomulin',\n",
       " 'Ceftamin',\n",
       " 'Infubinol',\n",
       " 'Ketapril',\n",
       " 'Naftisol',\n",
       " 'Placebo',\n",
       " 'Propriva',\n",
       " 'Ramicane',\n",
       " 'Stelasyn',\n",
       " 'Zoniferol']"
      ]
     },
     "metadata": {},
     "execution_count": 491
    }
   ],
   "source": [
    "# making list by hand :(\n",
    "drugs = ['Capomulin', 'Ceftamin', 'Infubinol', 'Ketapril', 'Naftisol', 'Placebo', 'Propriva', 'Ramicane', 'Stelasyn', 'Zoniferol']\n",
    "drugs"
   ]
  },
  {
   "cell_type": "code",
   "execution_count": 492,
   "metadata": {},
   "outputs": [
    {
     "output_type": "execute_result",
     "data": {
      "text/plain": [
       "[['Capomulin',\n",
       "  'Ceftamin',\n",
       "  'Infubinol',\n",
       "  'Ketapril',\n",
       "  'Naftisol',\n",
       "  'Placebo',\n",
       "  'Propriva',\n",
       "  'Ramicane',\n",
       "  'Stelasyn',\n",
       "  'Zoniferol']]"
      ]
     },
     "metadata": {},
     "execution_count": 492
    }
   ],
   "source": [
    "# pulling from activity Pandas.1.13 folder\n",
    "x_axis = [drugs]\n",
    "x_axis"
   ]
  },
  {
   "cell_type": "code",
   "execution_count": 493,
   "metadata": {},
   "outputs": [
    {
     "output_type": "execute_result",
     "data": {
      "text/plain": [
       "Drug Regimen\n",
       "Capomulin    4960\n",
       "Ceftamin     3515\n",
       "Infubinol    3235\n",
       "Ketapril     3705\n",
       "Naftisol     3650\n",
       "Placebo      3380\n",
       "Propriva     2525\n",
       "Ramicane     4885\n",
       "Stelasyn     3480\n",
       "Zoniferol    3525\n",
       "Name: Total Timepoints, dtype: int64"
      ]
     },
     "metadata": {},
     "execution_count": 493
    }
   ],
   "source": [
    "y_axis = (plot1_df['Total Timepoints'])\n",
    "y_axis"
   ]
  },
  {
   "cell_type": "code",
   "execution_count": 494,
   "metadata": {},
   "outputs": [
    {
     "output_type": "error",
     "ename": "TypeError",
     "evalue": "can only concatenate list (not \"float\") to list",
     "traceback": [
      "\u001b[0;31m---------------------------------------------------------------------------\u001b[0m",
      "\u001b[0;31mTypeError\u001b[0m                                 Traceback (most recent call last)",
      "\u001b[0;32m<ipython-input-494-4f5549e877c6>\u001b[0m in \u001b[0;36m<module>\u001b[0;34m\u001b[0m\n\u001b[0;32m----> 1\u001b[0;31m \u001b[0mtick_locations\u001b[0m \u001b[0;34m=\u001b[0m \u001b[0;34m[\u001b[0m\u001b[0mvalue\u001b[0m\u001b[0;34m+\u001b[0m\u001b[0;36m0.4\u001b[0m \u001b[0;32mfor\u001b[0m \u001b[0mvalue\u001b[0m \u001b[0;32min\u001b[0m \u001b[0mx_axis\u001b[0m\u001b[0;34m]\u001b[0m\u001b[0;34m\u001b[0m\u001b[0;34m\u001b[0m\u001b[0m\n\u001b[0m",
      "\u001b[0;32m<ipython-input-494-4f5549e877c6>\u001b[0m in \u001b[0;36m<listcomp>\u001b[0;34m(.0)\u001b[0m\n\u001b[0;32m----> 1\u001b[0;31m \u001b[0mtick_locations\u001b[0m \u001b[0;34m=\u001b[0m \u001b[0;34m[\u001b[0m\u001b[0mvalue\u001b[0m\u001b[0;34m+\u001b[0m\u001b[0;36m0.4\u001b[0m \u001b[0;32mfor\u001b[0m \u001b[0mvalue\u001b[0m \u001b[0;32min\u001b[0m \u001b[0mx_axis\u001b[0m\u001b[0;34m]\u001b[0m\u001b[0;34m\u001b[0m\u001b[0;34m\u001b[0m\u001b[0m\n\u001b[0m",
      "\u001b[0;31mTypeError\u001b[0m: can only concatenate list (not \"float\") to list"
     ]
    }
   ],
   "source": [
    "#tick_locations = [value+0.4 for value in x_axis]"
   ]
  },
  {
   "cell_type": "code",
   "execution_count": 495,
   "metadata": {},
   "outputs": [
    {
     "output_type": "error",
     "ename": "TypeError",
     "evalue": "the dtypes of parameters x (<U9) and width (float64) are incompatible",
     "traceback": [
      "\u001b[0;31m---------------------------------------------------------------------------\u001b[0m",
      "\u001b[0;31mUFuncTypeError\u001b[0m                            Traceback (most recent call last)",
      "\u001b[0;32m~/opt/anaconda3/lib/python3.8/site-packages/matplotlib/axes/_axes.py\u001b[0m in \u001b[0;36mbar\u001b[0;34m(self, x, height, width, bottom, align, **kwargs)\u001b[0m\n\u001b[1;32m   2459\u001b[0m                 \u001b[0;32mtry\u001b[0m\u001b[0;34m:\u001b[0m\u001b[0;34m\u001b[0m\u001b[0;34m\u001b[0m\u001b[0m\n\u001b[0;32m-> 2460\u001b[0;31m                     \u001b[0mleft\u001b[0m \u001b[0;34m=\u001b[0m \u001b[0mx\u001b[0m \u001b[0;34m-\u001b[0m \u001b[0mwidth\u001b[0m \u001b[0;34m/\u001b[0m \u001b[0;36m2\u001b[0m\u001b[0;34m\u001b[0m\u001b[0;34m\u001b[0m\u001b[0m\n\u001b[0m\u001b[1;32m   2461\u001b[0m                 \u001b[0;32mexcept\u001b[0m \u001b[0mTypeError\u001b[0m \u001b[0;32mas\u001b[0m \u001b[0me\u001b[0m\u001b[0;34m:\u001b[0m\u001b[0;34m\u001b[0m\u001b[0;34m\u001b[0m\u001b[0m\n",
      "\u001b[0;31mUFuncTypeError\u001b[0m: ufunc 'subtract' did not contain a loop with signature matching types (dtype('<U32'), dtype('<U32')) -> dtype('<U32')",
      "\nThe above exception was the direct cause of the following exception:\n",
      "\u001b[0;31mTypeError\u001b[0m                                 Traceback (most recent call last)",
      "\u001b[0;32m<ipython-input-495-13edd6b13968>\u001b[0m in \u001b[0;36m<module>\u001b[0;34m\u001b[0m\n\u001b[0;32m----> 1\u001b[0;31m \u001b[0mplt\u001b[0m\u001b[0;34m.\u001b[0m\u001b[0mbar\u001b[0m\u001b[0;34m(\u001b[0m\u001b[0mx\u001b[0m\u001b[0;34m=\u001b[0m\u001b[0mx_axis\u001b[0m\u001b[0;34m,\u001b[0m \u001b[0mheight\u001b[0m\u001b[0;34m=\u001b[0m\u001b[0my_axis\u001b[0m\u001b[0;34m)\u001b[0m\u001b[0;34m\u001b[0m\u001b[0;34m\u001b[0m\u001b[0m\n\u001b[0m",
      "\u001b[0;32m~/opt/anaconda3/lib/python3.8/site-packages/matplotlib/pyplot.py\u001b[0m in \u001b[0;36mbar\u001b[0;34m(x, height, width, bottom, align, data, **kwargs)\u001b[0m\n\u001b[1;32m   2485\u001b[0m         \u001b[0mx\u001b[0m\u001b[0;34m,\u001b[0m \u001b[0mheight\u001b[0m\u001b[0;34m,\u001b[0m \u001b[0mwidth\u001b[0m\u001b[0;34m=\u001b[0m\u001b[0;36m0.8\u001b[0m\u001b[0;34m,\u001b[0m \u001b[0mbottom\u001b[0m\u001b[0;34m=\u001b[0m\u001b[0;32mNone\u001b[0m\u001b[0;34m,\u001b[0m \u001b[0;34m*\u001b[0m\u001b[0;34m,\u001b[0m \u001b[0malign\u001b[0m\u001b[0;34m=\u001b[0m\u001b[0;34m'center'\u001b[0m\u001b[0;34m,\u001b[0m\u001b[0;34m\u001b[0m\u001b[0;34m\u001b[0m\u001b[0m\n\u001b[1;32m   2486\u001b[0m         data=None, **kwargs):\n\u001b[0;32m-> 2487\u001b[0;31m     return gca().bar(\n\u001b[0m\u001b[1;32m   2488\u001b[0m         \u001b[0mx\u001b[0m\u001b[0;34m,\u001b[0m \u001b[0mheight\u001b[0m\u001b[0;34m,\u001b[0m \u001b[0mwidth\u001b[0m\u001b[0;34m=\u001b[0m\u001b[0mwidth\u001b[0m\u001b[0;34m,\u001b[0m \u001b[0mbottom\u001b[0m\u001b[0;34m=\u001b[0m\u001b[0mbottom\u001b[0m\u001b[0;34m,\u001b[0m \u001b[0malign\u001b[0m\u001b[0;34m=\u001b[0m\u001b[0malign\u001b[0m\u001b[0;34m,\u001b[0m\u001b[0;34m\u001b[0m\u001b[0;34m\u001b[0m\u001b[0m\n\u001b[1;32m   2489\u001b[0m         **({\"data\": data} if data is not None else {}), **kwargs)\n",
      "\u001b[0;32m~/opt/anaconda3/lib/python3.8/site-packages/matplotlib/__init__.py\u001b[0m in \u001b[0;36minner\u001b[0;34m(ax, data, *args, **kwargs)\u001b[0m\n\u001b[1;32m   1436\u001b[0m     \u001b[0;32mdef\u001b[0m \u001b[0minner\u001b[0m\u001b[0;34m(\u001b[0m\u001b[0max\u001b[0m\u001b[0;34m,\u001b[0m \u001b[0;34m*\u001b[0m\u001b[0margs\u001b[0m\u001b[0;34m,\u001b[0m \u001b[0mdata\u001b[0m\u001b[0;34m=\u001b[0m\u001b[0;32mNone\u001b[0m\u001b[0;34m,\u001b[0m \u001b[0;34m**\u001b[0m\u001b[0mkwargs\u001b[0m\u001b[0;34m)\u001b[0m\u001b[0;34m:\u001b[0m\u001b[0;34m\u001b[0m\u001b[0;34m\u001b[0m\u001b[0m\n\u001b[1;32m   1437\u001b[0m         \u001b[0;32mif\u001b[0m \u001b[0mdata\u001b[0m \u001b[0;32mis\u001b[0m \u001b[0;32mNone\u001b[0m\u001b[0;34m:\u001b[0m\u001b[0;34m\u001b[0m\u001b[0;34m\u001b[0m\u001b[0m\n\u001b[0;32m-> 1438\u001b[0;31m             \u001b[0;32mreturn\u001b[0m \u001b[0mfunc\u001b[0m\u001b[0;34m(\u001b[0m\u001b[0max\u001b[0m\u001b[0;34m,\u001b[0m \u001b[0;34m*\u001b[0m\u001b[0mmap\u001b[0m\u001b[0;34m(\u001b[0m\u001b[0msanitize_sequence\u001b[0m\u001b[0;34m,\u001b[0m \u001b[0margs\u001b[0m\u001b[0;34m)\u001b[0m\u001b[0;34m,\u001b[0m \u001b[0;34m**\u001b[0m\u001b[0mkwargs\u001b[0m\u001b[0;34m)\u001b[0m\u001b[0;34m\u001b[0m\u001b[0;34m\u001b[0m\u001b[0m\n\u001b[0m\u001b[1;32m   1439\u001b[0m \u001b[0;34m\u001b[0m\u001b[0m\n\u001b[1;32m   1440\u001b[0m         \u001b[0mbound\u001b[0m \u001b[0;34m=\u001b[0m \u001b[0mnew_sig\u001b[0m\u001b[0;34m.\u001b[0m\u001b[0mbind\u001b[0m\u001b[0;34m(\u001b[0m\u001b[0max\u001b[0m\u001b[0;34m,\u001b[0m \u001b[0;34m*\u001b[0m\u001b[0margs\u001b[0m\u001b[0;34m,\u001b[0m \u001b[0;34m**\u001b[0m\u001b[0mkwargs\u001b[0m\u001b[0;34m)\u001b[0m\u001b[0;34m\u001b[0m\u001b[0;34m\u001b[0m\u001b[0m\n",
      "\u001b[0;32m~/opt/anaconda3/lib/python3.8/site-packages/matplotlib/axes/_axes.py\u001b[0m in \u001b[0;36mbar\u001b[0;34m(self, x, height, width, bottom, align, **kwargs)\u001b[0m\n\u001b[1;32m   2460\u001b[0m                     \u001b[0mleft\u001b[0m \u001b[0;34m=\u001b[0m \u001b[0mx\u001b[0m \u001b[0;34m-\u001b[0m \u001b[0mwidth\u001b[0m \u001b[0;34m/\u001b[0m \u001b[0;36m2\u001b[0m\u001b[0;34m\u001b[0m\u001b[0;34m\u001b[0m\u001b[0m\n\u001b[1;32m   2461\u001b[0m                 \u001b[0;32mexcept\u001b[0m \u001b[0mTypeError\u001b[0m \u001b[0;32mas\u001b[0m \u001b[0me\u001b[0m\u001b[0;34m:\u001b[0m\u001b[0;34m\u001b[0m\u001b[0;34m\u001b[0m\u001b[0m\n\u001b[0;32m-> 2462\u001b[0;31m                     raise TypeError(f'the dtypes of parameters x ({x.dtype}) '\n\u001b[0m\u001b[1;32m   2463\u001b[0m                                     \u001b[0;34mf'and width ({width.dtype}) '\u001b[0m\u001b[0;34m\u001b[0m\u001b[0;34m\u001b[0m\u001b[0m\n\u001b[1;32m   2464\u001b[0m                                     f'are incompatible') from e\n",
      "\u001b[0;31mTypeError\u001b[0m: the dtypes of parameters x (<U9) and width (float64) are incompatible"
     ]
    }
   ],
   "source": [
    "plt.bar(x=x_axis, height=y_axis)"
   ]
  },
  {
   "cell_type": "code",
   "execution_count": 499,
   "metadata": {},
   "outputs": [
    {
     "output_type": "error",
     "ename": "TypeError",
     "evalue": "the dtypes of parameters x (<U9) and width (float64) are incompatible",
     "traceback": [
      "\u001b[0;31m---------------------------------------------------------------------------\u001b[0m",
      "\u001b[0;31mUFuncTypeError\u001b[0m                            Traceback (most recent call last)",
      "\u001b[0;32m~/opt/anaconda3/lib/python3.8/site-packages/matplotlib/axes/_axes.py\u001b[0m in \u001b[0;36mbar\u001b[0;34m(self, x, height, width, bottom, align, **kwargs)\u001b[0m\n\u001b[1;32m   2459\u001b[0m                 \u001b[0;32mtry\u001b[0m\u001b[0;34m:\u001b[0m\u001b[0;34m\u001b[0m\u001b[0;34m\u001b[0m\u001b[0m\n\u001b[0;32m-> 2460\u001b[0;31m                     \u001b[0mleft\u001b[0m \u001b[0;34m=\u001b[0m \u001b[0mx\u001b[0m \u001b[0;34m-\u001b[0m \u001b[0mwidth\u001b[0m \u001b[0;34m/\u001b[0m \u001b[0;36m2\u001b[0m\u001b[0;34m\u001b[0m\u001b[0;34m\u001b[0m\u001b[0m\n\u001b[0m\u001b[1;32m   2461\u001b[0m                 \u001b[0;32mexcept\u001b[0m \u001b[0mTypeError\u001b[0m \u001b[0;32mas\u001b[0m \u001b[0me\u001b[0m\u001b[0;34m:\u001b[0m\u001b[0;34m\u001b[0m\u001b[0;34m\u001b[0m\u001b[0m\n",
      "\u001b[0;31mUFuncTypeError\u001b[0m: ufunc 'subtract' did not contain a loop with signature matching types (dtype('<U32'), dtype('<U32')) -> dtype('<U32')",
      "\nThe above exception was the direct cause of the following exception:\n",
      "\u001b[0;31mTypeError\u001b[0m                                 Traceback (most recent call last)",
      "\u001b[0;32m<ipython-input-499-ef7de1376fbd>\u001b[0m in \u001b[0;36m<module>\u001b[0;34m\u001b[0m\n\u001b[1;32m      2\u001b[0m \u001b[0;31m# Create a list indicating where to write x labels and set figure size to adjust for space\u001b[0m\u001b[0;34m\u001b[0m\u001b[0;34m\u001b[0m\u001b[0;34m\u001b[0m\u001b[0m\n\u001b[1;32m      3\u001b[0m \u001b[0mplt\u001b[0m\u001b[0;34m.\u001b[0m\u001b[0mfigure\u001b[0m\u001b[0;34m(\u001b[0m\u001b[0mfigsize\u001b[0m\u001b[0;34m=\u001b[0m\u001b[0;34m(\u001b[0m\u001b[0;36m20\u001b[0m\u001b[0;34m,\u001b[0m\u001b[0;36m3\u001b[0m\u001b[0;34m)\u001b[0m\u001b[0;34m)\u001b[0m\u001b[0;34m\u001b[0m\u001b[0;34m\u001b[0m\u001b[0m\n\u001b[0;32m----> 4\u001b[0;31m \u001b[0mplt\u001b[0m\u001b[0;34m.\u001b[0m\u001b[0mbar\u001b[0m\u001b[0;34m(\u001b[0m\u001b[0mx_axis\u001b[0m\u001b[0;34m,\u001b[0m \u001b[0mplot1_df\u001b[0m\u001b[0;34m)\u001b[0m\u001b[0;34m\u001b[0m\u001b[0;34m\u001b[0m\u001b[0m\n\u001b[0m\u001b[1;32m      5\u001b[0m \u001b[0;31m#, color='r', alpha=0.5, align=\"edge\")\u001b[0m\u001b[0;34m\u001b[0m\u001b[0;34m\u001b[0m\u001b[0;34m\u001b[0m\u001b[0m\n\u001b[1;32m      6\u001b[0m \u001b[0mplt\u001b[0m\u001b[0;34m.\u001b[0m\u001b[0mxticks\u001b[0m\u001b[0;34m(\u001b[0m\u001b[0mtick_locations\u001b[0m\u001b[0;34m,\u001b[0m \u001b[0mplot1_df\u001b[0m\u001b[0;34m[\u001b[0m\u001b[0;36m1\u001b[0m\u001b[0;34m]\u001b[0m\u001b[0;34m)\u001b[0m\u001b[0;34m\u001b[0m\u001b[0;34m\u001b[0m\u001b[0m\n",
      "\u001b[0;32m~/opt/anaconda3/lib/python3.8/site-packages/matplotlib/pyplot.py\u001b[0m in \u001b[0;36mbar\u001b[0;34m(x, height, width, bottom, align, data, **kwargs)\u001b[0m\n\u001b[1;32m   2485\u001b[0m         \u001b[0mx\u001b[0m\u001b[0;34m,\u001b[0m \u001b[0mheight\u001b[0m\u001b[0;34m,\u001b[0m \u001b[0mwidth\u001b[0m\u001b[0;34m=\u001b[0m\u001b[0;36m0.8\u001b[0m\u001b[0;34m,\u001b[0m \u001b[0mbottom\u001b[0m\u001b[0;34m=\u001b[0m\u001b[0;32mNone\u001b[0m\u001b[0;34m,\u001b[0m \u001b[0;34m*\u001b[0m\u001b[0;34m,\u001b[0m \u001b[0malign\u001b[0m\u001b[0;34m=\u001b[0m\u001b[0;34m'center'\u001b[0m\u001b[0;34m,\u001b[0m\u001b[0;34m\u001b[0m\u001b[0;34m\u001b[0m\u001b[0m\n\u001b[1;32m   2486\u001b[0m         data=None, **kwargs):\n\u001b[0;32m-> 2487\u001b[0;31m     return gca().bar(\n\u001b[0m\u001b[1;32m   2488\u001b[0m         \u001b[0mx\u001b[0m\u001b[0;34m,\u001b[0m \u001b[0mheight\u001b[0m\u001b[0;34m,\u001b[0m \u001b[0mwidth\u001b[0m\u001b[0;34m=\u001b[0m\u001b[0mwidth\u001b[0m\u001b[0;34m,\u001b[0m \u001b[0mbottom\u001b[0m\u001b[0;34m=\u001b[0m\u001b[0mbottom\u001b[0m\u001b[0;34m,\u001b[0m \u001b[0malign\u001b[0m\u001b[0;34m=\u001b[0m\u001b[0malign\u001b[0m\u001b[0;34m,\u001b[0m\u001b[0;34m\u001b[0m\u001b[0;34m\u001b[0m\u001b[0m\n\u001b[1;32m   2489\u001b[0m         **({\"data\": data} if data is not None else {}), **kwargs)\n",
      "\u001b[0;32m~/opt/anaconda3/lib/python3.8/site-packages/matplotlib/__init__.py\u001b[0m in \u001b[0;36minner\u001b[0;34m(ax, data, *args, **kwargs)\u001b[0m\n\u001b[1;32m   1436\u001b[0m     \u001b[0;32mdef\u001b[0m \u001b[0minner\u001b[0m\u001b[0;34m(\u001b[0m\u001b[0max\u001b[0m\u001b[0;34m,\u001b[0m \u001b[0;34m*\u001b[0m\u001b[0margs\u001b[0m\u001b[0;34m,\u001b[0m \u001b[0mdata\u001b[0m\u001b[0;34m=\u001b[0m\u001b[0;32mNone\u001b[0m\u001b[0;34m,\u001b[0m \u001b[0;34m**\u001b[0m\u001b[0mkwargs\u001b[0m\u001b[0;34m)\u001b[0m\u001b[0;34m:\u001b[0m\u001b[0;34m\u001b[0m\u001b[0;34m\u001b[0m\u001b[0m\n\u001b[1;32m   1437\u001b[0m         \u001b[0;32mif\u001b[0m \u001b[0mdata\u001b[0m \u001b[0;32mis\u001b[0m \u001b[0;32mNone\u001b[0m\u001b[0;34m:\u001b[0m\u001b[0;34m\u001b[0m\u001b[0;34m\u001b[0m\u001b[0m\n\u001b[0;32m-> 1438\u001b[0;31m             \u001b[0;32mreturn\u001b[0m \u001b[0mfunc\u001b[0m\u001b[0;34m(\u001b[0m\u001b[0max\u001b[0m\u001b[0;34m,\u001b[0m \u001b[0;34m*\u001b[0m\u001b[0mmap\u001b[0m\u001b[0;34m(\u001b[0m\u001b[0msanitize_sequence\u001b[0m\u001b[0;34m,\u001b[0m \u001b[0margs\u001b[0m\u001b[0;34m)\u001b[0m\u001b[0;34m,\u001b[0m \u001b[0;34m**\u001b[0m\u001b[0mkwargs\u001b[0m\u001b[0;34m)\u001b[0m\u001b[0;34m\u001b[0m\u001b[0;34m\u001b[0m\u001b[0m\n\u001b[0m\u001b[1;32m   1439\u001b[0m \u001b[0;34m\u001b[0m\u001b[0m\n\u001b[1;32m   1440\u001b[0m         \u001b[0mbound\u001b[0m \u001b[0;34m=\u001b[0m \u001b[0mnew_sig\u001b[0m\u001b[0;34m.\u001b[0m\u001b[0mbind\u001b[0m\u001b[0;34m(\u001b[0m\u001b[0max\u001b[0m\u001b[0;34m,\u001b[0m \u001b[0;34m*\u001b[0m\u001b[0margs\u001b[0m\u001b[0;34m,\u001b[0m \u001b[0;34m**\u001b[0m\u001b[0mkwargs\u001b[0m\u001b[0;34m)\u001b[0m\u001b[0;34m\u001b[0m\u001b[0;34m\u001b[0m\u001b[0m\n",
      "\u001b[0;32m~/opt/anaconda3/lib/python3.8/site-packages/matplotlib/axes/_axes.py\u001b[0m in \u001b[0;36mbar\u001b[0;34m(self, x, height, width, bottom, align, **kwargs)\u001b[0m\n\u001b[1;32m   2460\u001b[0m                     \u001b[0mleft\u001b[0m \u001b[0;34m=\u001b[0m \u001b[0mx\u001b[0m \u001b[0;34m-\u001b[0m \u001b[0mwidth\u001b[0m \u001b[0;34m/\u001b[0m \u001b[0;36m2\u001b[0m\u001b[0;34m\u001b[0m\u001b[0;34m\u001b[0m\u001b[0m\n\u001b[1;32m   2461\u001b[0m                 \u001b[0;32mexcept\u001b[0m \u001b[0mTypeError\u001b[0m \u001b[0;32mas\u001b[0m \u001b[0me\u001b[0m\u001b[0;34m:\u001b[0m\u001b[0;34m\u001b[0m\u001b[0;34m\u001b[0m\u001b[0m\n\u001b[0;32m-> 2462\u001b[0;31m                     raise TypeError(f'the dtypes of parameters x ({x.dtype}) '\n\u001b[0m\u001b[1;32m   2463\u001b[0m                                     \u001b[0;34mf'and width ({width.dtype}) '\u001b[0m\u001b[0;34m\u001b[0m\u001b[0;34m\u001b[0m\u001b[0m\n\u001b[1;32m   2464\u001b[0m                                     f'are incompatible') from e\n",
      "\u001b[0;31mTypeError\u001b[0m: the dtypes of parameters x (<U9) and width (float64) are incompatible"
     ]
    }
   ],
   "source": [
    "# pulling from activity Pandas.1.13 folder\n",
    "# Create a list indicating where to write x labels and set figure size to adjust for space\n",
    "plt.figure(figsize=(20,3))\n",
    "plt.bar(x_axis, plot1_df)\n",
    "#, color='r', alpha=0.5, align=\"edge\")\n",
    "plt.xticks(tick_locations, plot1_df[1])"
   ]
  },
  {
   "source": [
    "# Tell matplotlib that we will be making a bar chart\n",
    "# Users is our y axis and x_axis is, of course, our x axis\n",
    "# We apply align=\"edge\" to ensure our bars line up with our tick marks\n",
    "plt.bar(x_axis, users, color='r', alpha=0.5, align=\"center\")"
   ],
   "cell_type": "markdown",
   "metadata": {}
  },
  {
   "cell_type": "code",
   "execution_count": null,
   "metadata": {},
   "outputs": [],
   "source": [
    "# plot1 in matplotlib\n",
    "\n"
   ]
  },
  {
   "source": [
    "# Tell matplotlib where we would like to place each of our x axis headers\n",
    "tick_locations = [value for value in x_axis]\n",
    "plt.xticks(tick_locations, [\"Java\", \"C++\", \"Python\", \"Ruby\", \"Clojure\"])\n",
    "\n",
    "# Sets the x limits of the current chart\n",
    "plt.xlim(-0.75, len(x_axis)-0.25)\n",
    "\n",
    "# Sets the y limits of the current chart\n",
    "plt.ylim(0, max(users)+5000)\n",
    "\n",
    "# Give our chart some labels and a tile\n",
    "plt.title(\"Popularity of Programming Languages\")\n",
    "plt.xlabel(\"Programming Language\")\n",
    "plt.ylabel(\"Number of People Using Programming Languages\")"
   ],
   "cell_type": "markdown",
   "metadata": {}
  },
  {
   "source": [
    "# PIE CHARTS"
   ],
   "cell_type": "markdown",
   "metadata": {}
  },
  {
   "cell_type": "code",
   "execution_count": null,
   "metadata": {},
   "outputs": [],
   "source": [
    "# creating dataframe for pie charts\n",
    "mice_gender_df = clean_mice_df.groupby(['Sex'])['Mouse ID'].nunique()\n",
    "mice_gender_df"
   ]
  },
  {
   "cell_type": "code",
   "execution_count": null,
   "metadata": {},
   "outputs": [],
   "source": [
    "# NOT CURRENTLY USING, CONSIDER DITCHING\n",
    "# transferring counts to variables so I don't have to remember index numbers\n",
    "female_count = mice_gender_df[0]\n",
    "male_count = mice_gender_df[1]\n",
    "female_count, male_count"
   ]
  },
  {
   "cell_type": "code",
   "execution_count": null,
   "metadata": {},
   "outputs": [],
   "source": [
    "# Generate a pie plot showing the distribution of female versus male mice using pandas\n",
    "gender_panda_pie = mice_gender_df.plot.pie(title= \"Distribution of Female to Male Mice\")"
   ]
  },
  {
   "cell_type": "code",
   "execution_count": null,
   "metadata": {},
   "outputs": [],
   "source": [
    "# Generate a pie plot showing the distribution of female versus male mice using pyplot\n",
    "genders = ['Female', 'Male']\n",
    "gender_counts = [(mice_gender_df[0]), mice_gender_df[1]]\n",
    "plt.pie(gender_counts, labels= genders) \n",
    "# plt.axis(\"equal\")  # ** GETTING TypeError: 'str' object is not callable\n",
    "# plt.title('Distribution of Female to Male Mice')"
   ]
  },
  {
   "cell_type": "code",
   "execution_count": null,
   "metadata": {},
   "outputs": [],
   "source": [
    "# might work for something later\n",
    "#female_all_df = clean_mice_df.loc[clean_mice_df['Sex'] == 'Female', :]\n"
   ]
  },
  {
   "cell_type": "markdown",
   "metadata": {},
   "source": [
    "## Quartiles, Outliers and Boxplots"
   ]
  },
  {
   "cell_type": "code",
   "execution_count": null,
   "metadata": {},
   "outputs": [],
   "source": [
    "# Calculate the final tumor volume of each mouse across four of the treatment regimens:  \n",
    "# Capomulin, Ramicane, Infubinol, and Ceftamin\n",
    "\n",
    "# Start by getting the last (greatest) timepoint for each mouse\n",
    "\n",
    "# Merge this group df with the original dataframe to get the tumor volume at the last timepoint\n"
   ]
  },
  {
   "cell_type": "code",
   "execution_count": null,
   "metadata": {},
   "outputs": [],
   "source": [
    "# last/greatest timepoint for each mouse\n",
    "last_timepoint_df = clean_mice_df.groupby(['Mouse ID'])['Timepoint'].max()\n",
    "last_timepoint_df"
   ]
  },
  {
   "cell_type": "code",
   "execution_count": null,
   "metadata": {},
   "outputs": [],
   "source": [
    "# inner merge with clean_mice\n",
    "final_time_df = pd.merge(clean_mice_df, last_timepoint_df, on=['Mouse ID','Timepoint'], how='inner')\n",
    "final_time_df"
   ]
  },
  {
   "cell_type": "code",
   "execution_count": null,
   "metadata": {},
   "outputs": [],
   "source": []
  },
  {
   "cell_type": "code",
   "execution_count": null,
   "metadata": {},
   "outputs": [],
   "source": [
    "# Put treatments into a list for for loop (and later for plot labels)\n",
    "\n",
    "\n",
    "# Create empty list to fill with tumor vol data (for plotting)\n",
    "\n",
    "\n",
    "# Calculate the IQR and quantitatively determine if there are any potential outliers. \n",
    "\n",
    "    \n",
    "    # Locate the rows which contain mice on each drug and get the tumor volumes\n",
    "    \n",
    "    \n",
    "    # add subset \n",
    "    \n",
    "    \n",
    "    # Determine outliers using upper and lower bounds\n",
    "    "
   ]
  },
  {
   "cell_type": "code",
   "execution_count": null,
   "metadata": {},
   "outputs": [],
   "source": [
    "#Capomulin, Ramicane, Infubinol, and Ceftamin\n",
    "chosen_treatments = ['Capomulin', 'Ramicane', 'Infubinol', 'Ceftamin']"
   ]
  },
  {
   "cell_type": "code",
   "execution_count": 437,
   "metadata": {},
   "outputs": [],
   "source": [
    "# create empty list to fill with looping\n",
    "tumor_volumes = []"
   ]
  },
  {
   "cell_type": "code",
   "execution_count": null,
   "metadata": {},
   "outputs": [],
   "source": [
    "# Generate a box plot of the final tumor volume of each mouse across four regimens of interest\n"
   ]
  },
  {
   "cell_type": "markdown",
   "metadata": {},
   "source": [
    "## Line and Scatter Plots"
   ]
  },
  {
   "cell_type": "code",
   "execution_count": null,
   "metadata": {},
   "outputs": [],
   "source": [
    "# Generate a line plot of tumor volume vs. time point for a mouse treated with Capomulin\n"
   ]
  },
  {
   "cell_type": "code",
   "execution_count": null,
   "metadata": {},
   "outputs": [],
   "source": [
    "# Generate a scatter plot of average tumor volume vs. mouse weight for the Capomulin regimen\n"
   ]
  },
  {
   "cell_type": "markdown",
   "metadata": {},
   "source": [
    "## Correlation and Regression"
   ]
  },
  {
   "cell_type": "code",
   "execution_count": null,
   "metadata": {},
   "outputs": [],
   "source": [
    "# Calculate the correlation coefficient and linear regression model \n",
    "# for mouse weight and average tumor volume for the Capomulin regimen\n"
   ]
  },
  {
   "cell_type": "code",
   "execution_count": null,
   "metadata": {},
   "outputs": [],
   "source": []
  }
 ],
 "metadata": {
  "anaconda-cloud": {},
  "kernelspec": {
   "name": "python385jvsc74a57bd0797aaa517c2851f29685343c41d423cf5c6e3497bc2091e34cd352c6f05b7b6f",
   "display_name": "Python 3.8.5 64-bit ('base': conda)"
  },
  "language_info": {
   "codemirror_mode": {
    "name": "ipython",
    "version": 3
   },
   "file_extension": ".py",
   "mimetype": "text/x-python",
   "name": "python",
   "nbconvert_exporter": "python",
   "pygments_lexer": "ipython3",
   "version": "3.8.5"
  }
 },
 "nbformat": 4,
 "nbformat_minor": 4
}